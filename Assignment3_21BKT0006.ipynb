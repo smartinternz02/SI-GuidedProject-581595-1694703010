{
  "nbformat": 4,
  "nbformat_minor": 0,
  "metadata": {
    "colab": {
      "provenance": [],
      "authorship_tag": "ABX9TyN9Mse89HhJcDl6vw8GLO4D",
      "include_colab_link": true
    },
    "kernelspec": {
      "name": "python3",
      "display_name": "Python 3"
    },
    "language_info": {
      "name": "python"
    }
  },
  "cells": [
    {
      "cell_type": "markdown",
      "metadata": {
        "id": "view-in-github",
        "colab_type": "text"
      },
      "source": [
        "<a href=\"https://colab.research.google.com/github/smartinternz02/SI-GuidedProject-581595-1694703010/blob/main/Assignment3_21BKT0006.ipynb\" target=\"_parent\"><img src=\"https://colab.research.google.com/assets/colab-badge.svg\" alt=\"Open In Colab\"/></a>"
      ]
    },
    {
      "cell_type": "code",
      "execution_count": null,
      "metadata": {
        "colab": {
          "base_uri": "https://localhost:8080/",
          "height": 76
        },
        "id": "qWF3dxx4N7jT",
        "outputId": "99411c63-504e-4792-d02c-b49067d55f29"
      },
      "outputs": [
        {
          "output_type": "display_data",
          "data": {
            "text/plain": [
              "<IPython.core.display.HTML object>"
            ],
            "text/html": [
              "\n",
              "     <input type=\"file\" id=\"files-0de3cf87-6d0f-4ddb-a437-973a5cf03cdf\" name=\"files[]\" multiple disabled\n",
              "        style=\"border:none\" />\n",
              "     <output id=\"result-0de3cf87-6d0f-4ddb-a437-973a5cf03cdf\">\n",
              "      Upload widget is only available when the cell has been executed in the\n",
              "      current browser session. Please rerun this cell to enable.\n",
              "      </output>\n",
              "      <script>// Copyright 2017 Google LLC\n",
              "//\n",
              "// Licensed under the Apache License, Version 2.0 (the \"License\");\n",
              "// you may not use this file except in compliance with the License.\n",
              "// You may obtain a copy of the License at\n",
              "//\n",
              "//      http://www.apache.org/licenses/LICENSE-2.0\n",
              "//\n",
              "// Unless required by applicable law or agreed to in writing, software\n",
              "// distributed under the License is distributed on an \"AS IS\" BASIS,\n",
              "// WITHOUT WARRANTIES OR CONDITIONS OF ANY KIND, either express or implied.\n",
              "// See the License for the specific language governing permissions and\n",
              "// limitations under the License.\n",
              "\n",
              "/**\n",
              " * @fileoverview Helpers for google.colab Python module.\n",
              " */\n",
              "(function(scope) {\n",
              "function span(text, styleAttributes = {}) {\n",
              "  const element = document.createElement('span');\n",
              "  element.textContent = text;\n",
              "  for (const key of Object.keys(styleAttributes)) {\n",
              "    element.style[key] = styleAttributes[key];\n",
              "  }\n",
              "  return element;\n",
              "}\n",
              "\n",
              "// Max number of bytes which will be uploaded at a time.\n",
              "const MAX_PAYLOAD_SIZE = 100 * 1024;\n",
              "\n",
              "function _uploadFiles(inputId, outputId) {\n",
              "  const steps = uploadFilesStep(inputId, outputId);\n",
              "  const outputElement = document.getElementById(outputId);\n",
              "  // Cache steps on the outputElement to make it available for the next call\n",
              "  // to uploadFilesContinue from Python.\n",
              "  outputElement.steps = steps;\n",
              "\n",
              "  return _uploadFilesContinue(outputId);\n",
              "}\n",
              "\n",
              "// This is roughly an async generator (not supported in the browser yet),\n",
              "// where there are multiple asynchronous steps and the Python side is going\n",
              "// to poll for completion of each step.\n",
              "// This uses a Promise to block the python side on completion of each step,\n",
              "// then passes the result of the previous step as the input to the next step.\n",
              "function _uploadFilesContinue(outputId) {\n",
              "  const outputElement = document.getElementById(outputId);\n",
              "  const steps = outputElement.steps;\n",
              "\n",
              "  const next = steps.next(outputElement.lastPromiseValue);\n",
              "  return Promise.resolve(next.value.promise).then((value) => {\n",
              "    // Cache the last promise value to make it available to the next\n",
              "    // step of the generator.\n",
              "    outputElement.lastPromiseValue = value;\n",
              "    return next.value.response;\n",
              "  });\n",
              "}\n",
              "\n",
              "/**\n",
              " * Generator function which is called between each async step of the upload\n",
              " * process.\n",
              " * @param {string} inputId Element ID of the input file picker element.\n",
              " * @param {string} outputId Element ID of the output display.\n",
              " * @return {!Iterable<!Object>} Iterable of next steps.\n",
              " */\n",
              "function* uploadFilesStep(inputId, outputId) {\n",
              "  const inputElement = document.getElementById(inputId);\n",
              "  inputElement.disabled = false;\n",
              "\n",
              "  const outputElement = document.getElementById(outputId);\n",
              "  outputElement.innerHTML = '';\n",
              "\n",
              "  const pickedPromise = new Promise((resolve) => {\n",
              "    inputElement.addEventListener('change', (e) => {\n",
              "      resolve(e.target.files);\n",
              "    });\n",
              "  });\n",
              "\n",
              "  const cancel = document.createElement('button');\n",
              "  inputElement.parentElement.appendChild(cancel);\n",
              "  cancel.textContent = 'Cancel upload';\n",
              "  const cancelPromise = new Promise((resolve) => {\n",
              "    cancel.onclick = () => {\n",
              "      resolve(null);\n",
              "    };\n",
              "  });\n",
              "\n",
              "  // Wait for the user to pick the files.\n",
              "  const files = yield {\n",
              "    promise: Promise.race([pickedPromise, cancelPromise]),\n",
              "    response: {\n",
              "      action: 'starting',\n",
              "    }\n",
              "  };\n",
              "\n",
              "  cancel.remove();\n",
              "\n",
              "  // Disable the input element since further picks are not allowed.\n",
              "  inputElement.disabled = true;\n",
              "\n",
              "  if (!files) {\n",
              "    return {\n",
              "      response: {\n",
              "        action: 'complete',\n",
              "      }\n",
              "    };\n",
              "  }\n",
              "\n",
              "  for (const file of files) {\n",
              "    const li = document.createElement('li');\n",
              "    li.append(span(file.name, {fontWeight: 'bold'}));\n",
              "    li.append(span(\n",
              "        `(${file.type || 'n/a'}) - ${file.size} bytes, ` +\n",
              "        `last modified: ${\n",
              "            file.lastModifiedDate ? file.lastModifiedDate.toLocaleDateString() :\n",
              "                                    'n/a'} - `));\n",
              "    const percent = span('0% done');\n",
              "    li.appendChild(percent);\n",
              "\n",
              "    outputElement.appendChild(li);\n",
              "\n",
              "    const fileDataPromise = new Promise((resolve) => {\n",
              "      const reader = new FileReader();\n",
              "      reader.onload = (e) => {\n",
              "        resolve(e.target.result);\n",
              "      };\n",
              "      reader.readAsArrayBuffer(file);\n",
              "    });\n",
              "    // Wait for the data to be ready.\n",
              "    let fileData = yield {\n",
              "      promise: fileDataPromise,\n",
              "      response: {\n",
              "        action: 'continue',\n",
              "      }\n",
              "    };\n",
              "\n",
              "    // Use a chunked sending to avoid message size limits. See b/62115660.\n",
              "    let position = 0;\n",
              "    do {\n",
              "      const length = Math.min(fileData.byteLength - position, MAX_PAYLOAD_SIZE);\n",
              "      const chunk = new Uint8Array(fileData, position, length);\n",
              "      position += length;\n",
              "\n",
              "      const base64 = btoa(String.fromCharCode.apply(null, chunk));\n",
              "      yield {\n",
              "        response: {\n",
              "          action: 'append',\n",
              "          file: file.name,\n",
              "          data: base64,\n",
              "        },\n",
              "      };\n",
              "\n",
              "      let percentDone = fileData.byteLength === 0 ?\n",
              "          100 :\n",
              "          Math.round((position / fileData.byteLength) * 100);\n",
              "      percent.textContent = `${percentDone}% done`;\n",
              "\n",
              "    } while (position < fileData.byteLength);\n",
              "  }\n",
              "\n",
              "  // All done.\n",
              "  yield {\n",
              "    response: {\n",
              "      action: 'complete',\n",
              "    }\n",
              "  };\n",
              "}\n",
              "\n",
              "scope.google = scope.google || {};\n",
              "scope.google.colab = scope.google.colab || {};\n",
              "scope.google.colab._files = {\n",
              "  _uploadFiles,\n",
              "  _uploadFilesContinue,\n",
              "};\n",
              "})(self);\n",
              "</script> "
            ]
          },
          "metadata": {}
        },
        {
          "output_type": "stream",
          "name": "stdout",
          "text": [
            "Saving penguins_size.csv to penguins_size.csv\n"
          ]
        }
      ],
      "source": [
        "from google.colab import files\n",
        "import pandas as pd\n",
        "uploaded = files.upload()"
      ]
    },
    {
      "cell_type": "code",
      "source": [
        "df = pd.read_csv('penguins_size.csv')\n",
        "print(df.head())\n"
      ],
      "metadata": {
        "colab": {
          "base_uri": "https://localhost:8080/"
        },
        "id": "t4wvMC2LPCtT",
        "outputId": "bba6b69e-baed-4d10-995c-9ea42c2f32fe"
      },
      "execution_count": null,
      "outputs": [
        {
          "output_type": "stream",
          "name": "stdout",
          "text": [
            "  species     island  culmen_length_mm  culmen_depth_mm  flipper_length_mm  \\\n",
            "0  Adelie  Torgersen              39.1             18.7              181.0   \n",
            "1  Adelie  Torgersen              39.5             17.4              186.0   \n",
            "2  Adelie  Torgersen              40.3             18.0              195.0   \n",
            "3  Adelie  Torgersen               NaN              NaN                NaN   \n",
            "4  Adelie  Torgersen              36.7             19.3              193.0   \n",
            "\n",
            "   body_mass_g     sex  \n",
            "0       3750.0    MALE  \n",
            "1       3800.0  FEMALE  \n",
            "2       3250.0  FEMALE  \n",
            "3          NaN     NaN  \n",
            "4       3450.0  FEMALE  \n"
          ]
        }
      ]
    },
    {
      "cell_type": "code",
      "source": [
        "import pandas as pd\n",
        "\n",
        "numeric_column = df['culmen_depth_mm']\n",
        "mean = numeric_column.mean()\n",
        "median = numeric_column.median()\n",
        "std_dev = numeric_column.std()\n",
        "\n",
        "print(\"Mean:\", mean)\n",
        "print(\"Median:\", median)\n",
        "print(\"Standard Deviation:\", std_dev)\n",
        "\n",
        "import matplotlib.pyplot as plt\n",
        "\n",
        "plt.hist(numeric_column, bins=20)\n",
        "plt.xlabel(\"Value\")\n",
        "plt.ylabel(\"Frequency\")\n",
        "plt.title(\"Histogram of Numeric Variable\")\n",
        "plt.show()\n"
      ],
      "metadata": {
        "colab": {
          "base_uri": "https://localhost:8080/",
          "height": 527
        },
        "id": "bDobB1QYPUKO",
        "outputId": "dec5c2da-2fbd-4f91-d4bb-a0f518d9d8dd"
      },
      "execution_count": null,
      "outputs": [
        {
          "output_type": "stream",
          "name": "stdout",
          "text": [
            "Mean: 17.151169590643278\n",
            "Median: 17.3\n",
            "Standard Deviation: 1.9747931568167816\n"
          ]
        },
        {
          "output_type": "display_data",
          "data": {
            "text/plain": [
              "<Figure size 640x480 with 1 Axes>"
            ],
            "image/png": "[encoded data removed]"
          },
          "metadata": {}
        }
      ]
    },
    {
      "cell_type": "code",
      "source": [
        "import pandas as pd\n",
        "import matplotlib.pyplot as plt\n",
        "import seaborn as sns\n",
        "numeric_column1 = df['flipper_length_mm']\n",
        "numeric_column2 = df['body_mass_g']\n",
        "correlation_coefficient = numeric_column1.corr(numeric_column2)\n",
        "\n",
        "print(\"Correlation Coefficient:\", correlation_coefficient)\n",
        "\n",
        "plt.scatter(numeric_column1, numeric_column2, alpha=0.5)\n",
        "plt.xlabel(\"flipper_length_mm\")\n",
        "plt.ylabel(\"body_mass_g\")\n",
        "plt.title(\"Scatter Plot between flipper_length_mm and body_mass_g\")\n",
        "plt.show()\n"
      ],
      "metadata": {
        "colab": {
          "base_uri": "https://localhost:8080/",
          "height": 490
        },
        "id": "ZJiiVm3IQAhw",
        "outputId": "26a470c4-b53d-4110-db78-84c1e5f6a5fd"
      },
      "execution_count": null,
      "outputs": [
        {
          "output_type": "stream",
          "name": "stdout",
          "text": [
            "Correlation Coefficient: 0.8712017673060111\n"
          ]
        },
        {
          "output_type": "display_data",
          "data": {
            "text/plain": [
              "<Figure size 640x480 with 1 Axes>"
            ],
            "image/png": "[encoded data removed]"
          },
          "metadata": {}
        }
      ]
    },
    {
      "cell_type": "code",
      "source": [
        "import pandas as pd\n",
        "import seaborn as sns\n",
        "import matplotlib.pyplot as plt\n",
        "numerical_columns = ['culmen_length_mm', 'culmen_depth_mm', 'flipper_length_mm']\n",
        "\n",
        "correlation_matrix = df[numerical_columns].corr()\n",
        "\n",
        "plt.figure(figsize=(8, 6))\n",
        "sns.heatmap(correlation_matrix, annot=True, cmap=\"coolwarm\", fmt=\".2f\")\n",
        "plt.title(\"Correlation Heatmap\")\n",
        "plt.show()\n"
      ],
      "metadata": {
        "colab": {
          "base_uri": "https://localhost:8080/",
          "height": 545
        },
        "id": "GgovbDrWQifF",
        "outputId": "d50b6b2d-e502-4bb2-9f62-14cd34590b57"
      },
      "execution_count": null,
      "outputs": [
        {
          "output_type": "display_data",
          "data": {
            "text/plain": [
              "<Figure size 800x600 with 2 Axes>"
            ],
            "image/png": "[encoded data removed]"
          },
          "metadata": {}
        }
      ]
    },
    {
      "cell_type": "markdown",
      "source": [
        "TASK 4- Perform descriptive statistics on the dataset."
      ],
      "metadata": {
        "id": "hqAtVWSxRGOj"
      }
    },
    {
      "cell_type": "code",
      "source": [
        "import pandas as pd\n",
        "\n",
        "numerical_summary = df.describe()\n",
        "\n",
        "categorical_summary = df.describe(include='object')\n",
        "\n",
        "categorical_column = 'culmen_length_mm'\n",
        "category_counts = df[categorical_column].value_counts()\n",
        "category_percentages = df[categorical_column].value_counts(normalize=True) * 100\n",
        "\n",
        "print(\"Summary Statistics for Numerical Variables:\")\n",
        "print(numerical_summary)\n",
        "\n",
        "print(\"\\nSummary Statistics for Categorical Variables:\")\n",
        "print(categorical_summary)\n",
        "\n",
        "print(\"\\nFrequency Counts for\", categorical_column, \":\")\n",
        "print(category_counts)\n",
        "\n",
        "print(\"\\nPercentage of Each Category for\", categorical_column, \":\")\n",
        "print(category_percentages)\n"
      ],
      "metadata": {
        "colab": {
          "base_uri": "https://localhost:8080/"
        },
        "id": "4oIKKsk-RJsN",
        "outputId": "55be3582-8e97-401a-ec9a-bf22cab1cf27"
      },
      "execution_count": null,
      "outputs": [
        {
          "output_type": "stream",
          "name": "stdout",
          "text": [
            "Summary Statistics for Numerical Variables:\n",
            "       culmen_length_mm  culmen_depth_mm  flipper_length_mm  body_mass_g\n",
            "count        342.000000       342.000000         342.000000   342.000000\n",
            "mean          43.921930        17.151170         200.915205  4201.754386\n",
            "std            5.459584         1.974793          14.061714   801.954536\n",
            "min           32.100000        13.100000         172.000000  2700.000000\n",
            "25%           39.225000        15.600000         190.000000  3550.000000\n",
            "50%           44.450000        17.300000         197.000000  4050.000000\n",
            "75%           48.500000        18.700000         213.000000  4750.000000\n",
            "max           59.600000        21.500000         231.000000  6300.000000\n",
            "\n",
            "Summary Statistics for Categorical Variables:\n",
            "       species  island   sex\n",
            "count      344     344   334\n",
            "unique       3       3     3\n",
            "top     Adelie  Biscoe  MALE\n",
            "freq       152     168   168\n",
            "\n",
            "Frequency Counts for culmen_length_mm :\n",
            "41.1    7\n",
            "45.2    6\n",
            "39.6    5\n",
            "50.5    5\n",
            "50.0    5\n",
            "       ..\n",
            "35.6    1\n",
            "36.8    1\n",
            "43.1    1\n",
            "38.5    1\n",
            "49.9    1\n",
            "Name: culmen_length_mm, Length: 164, dtype: int64\n",
            "\n",
            "Percentage of Each Category for culmen_length_mm :\n",
            "41.1    2.046784\n",
            "45.2    1.754386\n",
            "39.6    1.461988\n",
            "50.5    1.461988\n",
            "50.0    1.461988\n",
            "          ...   \n",
            "35.6    0.292398\n",
            "36.8    0.292398\n",
            "43.1    0.292398\n",
            "38.5    0.292398\n",
            "49.9    0.292398\n",
            "Name: culmen_length_mm, Length: 164, dtype: float64\n"
          ]
        }
      ]
    },
    {
      "cell_type": "markdown",
      "source": [
        "TASK 5- Check for Missing values and deal with them"
      ],
      "metadata": {
        "id": "vrC6z6GmRqnc"
      }
    },
    {
      "cell_type": "code",
      "source": [
        "import pandas as pd\n",
        "\n",
        "missing_values = df.isnull().sum()\n",
        "\n",
        "print(\"Missing Values Count:\")\n",
        "print(missing_values)\n"
      ],
      "metadata": {
        "colab": {
          "base_uri": "https://localhost:8080/"
        },
        "id": "CuhvY0iERr_O",
        "outputId": "d732eef9-190f-4ce0-ff51-3aeef39349ce"
      },
      "execution_count": null,
      "outputs": [
        {
          "output_type": "stream",
          "name": "stdout",
          "text": [
            "Missing Values Count:\n",
            "species               0\n",
            "island                0\n",
            "culmen_length_mm      2\n",
            "culmen_depth_mm       2\n",
            "flipper_length_mm     2\n",
            "body_mass_g           2\n",
            "sex                  10\n",
            "dtype: int64\n"
          ]
        }
      ]
    },
    {
      "cell_type": "code",
      "source": [
        "df_cleaned = df.dropna()"
      ],
      "metadata": {
        "id": "dYrdfD9vSCAn"
      },
      "execution_count": null,
      "outputs": []
    },
    {
      "cell_type": "markdown",
      "source": [
        "TASK 6- Find the outliers and replace them outliers"
      ],
      "metadata": {
        "id": "TxJn3I0xSLvy"
      }
    },
    {
      "cell_type": "code",
      "source": [
        "import pandas as pd\n",
        "import numpy as np\n",
        "outlier_threshold = 1.5\n",
        "\n",
        "outliers_df = pd.DataFrame(columns=df.columns)\n",
        "\n",
        "for column in df.select_dtypes(include=[np.number]):\n",
        "\n",
        "    q1 = df[column].quantile(0.25)\n",
        "    q3 = df[column].quantile(0.75)\n",
        "    iqr = q3 - q1\n",
        "\n",
        "    lower_bound = q1 - outlier_threshold * iqr\n",
        "    upper_bound = q3 + outlier_threshold * iqr\n",
        "\n",
        "    outliers = df[(df[column] < lower_bound) | (df[column] > upper_bound)]\n",
        "    outliers_df = pd.concat([outliers_df, outliers])\n",
        "\n",
        "print(\"Outliers:\")\n",
        "print(outliers_df)\n"
      ],
      "metadata": {
        "colab": {
          "base_uri": "https://localhost:8080/"
        },
        "id": "j-mHbuFXSPPw",
        "outputId": "2a022368-8f8d-4d83-87fb-4c6f21dabee2"
      },
      "execution_count": null,
      "outputs": [
        {
          "output_type": "stream",
          "name": "stdout",
          "text": [
            "Outliers:\n",
            "Empty DataFrame\n",
            "Columns: [species, island, culmen_length_mm, culmen_depth_mm, flipper_length_mm, body_mass_g, sex]\n",
            "Index: []\n"
          ]
        }
      ]
    },
    {
      "cell_type": "code",
      "source": [
        "\n",
        "for column in outliers_df.select_dtypes(include=[np.number]):\n",
        "    median_value = df[column].median()\n",
        "    df.loc[outliers_df.index, column] = median_value\n"
      ],
      "metadata": {
        "id": "ON7t1ehzSkuu"
      },
      "execution_count": null,
      "outputs": []
    },
    {
      "cell_type": "markdown",
      "source": [
        "TASK 7-Check the correlation of independent variables with the target"
      ],
      "metadata": {
        "id": "URLkFIYTSnSj"
      }
    },
    {
      "cell_type": "code",
      "source": [
        "import pandas as pd\n",
        "import statsmodels.api as sm\n",
        "from statsmodels.formula.api import ols\n",
        "numerical_independent_variables = ['culmen_length_mm', 'culmen_depth_mm', 'flipper_length_mm', 'body_mass_g']\n",
        "\n",
        "for numerical_variable in numerical_independent_variables:\n",
        "    formula = f\"{numerical_variable} ~ species\"\n",
        "    model = ols(formula, data=df).fit()\n",
        "    anova_table = sm.stats.anova_lm(model, typ=2)\n",
        "\n",
        "    print(f\"ANOVA for {numerical_variable}:\")\n",
        "    print(anova_table)\n"
      ],
      "metadata": {
        "colab": {
          "base_uri": "https://localhost:8080/"
        },
        "id": "I_3XMpXmSrop",
        "outputId": "e3151fe2-a033-4a51-824c-11079193f847"
      },
      "execution_count": null,
      "outputs": [
        {
          "output_type": "stream",
          "name": "stdout",
          "text": [
            "ANOVA for culmen_length_mm:\n",
            "               sum_sq     df           F        PR(>F)\n",
            "species   7194.317439    2.0  410.600255  2.694614e-91\n",
            "Residual  2969.888087  339.0         NaN           NaN\n",
            "ANOVA for culmen_depth_mm:\n",
            "              sum_sq     df           F        PR(>F)\n",
            "species   903.967209    2.0  359.789149  1.507658e-84\n",
            "Residual  425.867324  339.0         NaN           NaN\n",
            "ANOVA for flipper_length_mm:\n",
            "                sum_sq     df           F         PR(>F)\n",
            "species   52473.283899    2.0  594.801627  1.351710e-111\n",
            "Residual  14953.257037  339.0         NaN            NaN\n",
            "ANOVA for body_mass_g:\n",
            "                sum_sq     df           F        PR(>F)\n",
            "species   1.468642e+08    2.0  343.626275  2.892368e-82\n",
            "Residual  7.244348e+07  339.0         NaN           NaN\n"
          ]
        }
      ]
    },
    {
      "cell_type": "markdown",
      "source": [
        "TASK 8- Check for Categorical columns and perform encoding"
      ],
      "metadata": {
        "id": "ZoG51CijUod3"
      }
    },
    {
      "cell_type": "code",
      "source": [
        "import pandas as pd\n",
        "\n",
        "categorical_columns = df.select_dtypes(include=['object']).columns\n",
        "\n",
        "df_encoded = pd.get_dummies(df, columns=categorical_columns)\n",
        "\n",
        "print(\"DataFrame with One-Hot Encoding:\")\n",
        "print(df_encoded)\n"
      ],
      "metadata": {
        "colab": {
          "base_uri": "https://localhost:8080/"
        },
        "id": "cGlYkp15UsU_",
        "outputId": "9425f4d0-028d-4a5f-dae9-297acd88e954"
      },
      "execution_count": null,
      "outputs": [
        {
          "output_type": "stream",
          "name": "stdout",
          "text": [
            "DataFrame with One-Hot Encoding:\n",
            "   numeric1  category1_A  category1_B  category1_C  category2_X  category2_Y  \\\n",
            "0        10            1            0            0            1            0   \n",
            "1        20            0            1            0            0            1   \n",
            "2        15            1            0            0            1            0   \n",
            "3        25            0            0            1            0            0   \n",
            "4        30            0            1            0            0            0   \n",
            "\n",
            "   category2_Z  \n",
            "0            0  \n",
            "1            0  \n",
            "2            0  \n",
            "3            1  \n",
            "4            1  \n"
          ]
        }
      ]
    },
    {
      "cell_type": "code",
      "source": [
        "from sklearn.preprocessing import LabelEncoder\n",
        "\n",
        "label_encoder = LabelEncoder()\n",
        "\n",
        "for column in categorical_columns:\n",
        "    df[column] = label_encoder.fit_transform(df[column])\n",
        "\n",
        "print(\"DataFrame with Label Encoding:\")\n",
        "print(df)\n"
      ],
      "metadata": {
        "colab": {
          "base_uri": "https://localhost:8080/"
        },
        "id": "3AU07TnXVLWa",
        "outputId": "2aba1c70-04cc-408f-9674-e5fd8b27bb33"
      },
      "execution_count": null,
      "outputs": [
        {
          "output_type": "stream",
          "name": "stdout",
          "text": [
            "DataFrame with Label Encoding:\n",
            "   category1  category2  numeric1\n",
            "0          0          0        10\n",
            "1          1          1        20\n",
            "2          0          0        15\n",
            "3          2          2        25\n",
            "4          1          2        30\n"
          ]
        }
      ]
    },
    {
      "cell_type": "markdown",
      "source": [
        "TASK 9- Split the data into dependent and independent variables."
      ],
      "metadata": {
        "id": "DTjXNB7-VS7y"
      }
    },
    {
      "cell_type": "code",
      "source": [
        "import pandas as pd\n",
        "df = pd.read_csv('penguins_size.csv')\n",
        "\n",
        "independent_columns = ['culmen_length_mm', 'culmen_depth_mm', 'flipper_length_mm', 'body_mass_g']\n",
        "\n",
        "target_column = 'species'\n",
        "\n",
        "if set(independent_columns + [target_column]).issubset(df.columns):\n",
        "    X = df[independent_columns]  # Features\n",
        "    y = df[target_column]         # Target\n",
        "\n",
        "    print(\"Independent Variables (Features):\")\n",
        "    print(X.head())\n",
        "\n",
        "    print(\"\\nDependent Variable (Target):\")\n",
        "    print(y.head())\n",
        "else:\n",
        "    print(\"One or more specified columns do not exist in the DataFrame.\")\n"
      ],
      "metadata": {
        "colab": {
          "base_uri": "https://localhost:8080/"
        },
        "id": "dkxOkehFVVBY",
        "outputId": "789819ae-f60d-4b93-ab9d-77a20cf7ea8c"
      },
      "execution_count": null,
      "outputs": [
        {
          "output_type": "stream",
          "name": "stdout",
          "text": [
            "Independent Variables (Features):\n",
            "   culmen_length_mm  culmen_depth_mm  flipper_length_mm  body_mass_g\n",
            "0              39.1             18.7              181.0       3750.0\n",
            "1              39.5             17.4              186.0       3800.0\n",
            "2              40.3             18.0              195.0       3250.0\n",
            "3               NaN              NaN                NaN          NaN\n",
            "4              36.7             19.3              193.0       3450.0\n",
            "\n",
            "Dependent Variable (Target):\n",
            "0    Adelie\n",
            "1    Adelie\n",
            "2    Adelie\n",
            "3    Adelie\n",
            "4    Adelie\n",
            "Name: species, dtype: object\n"
          ]
        }
      ]
    },
    {
      "cell_type": "markdown",
      "source": [
        "TASK 10- Scaling the data"
      ],
      "metadata": {
        "id": "hASIHMX4V8oz"
      }
    },
    {
      "cell_type": "code",
      "source": [
        "from sklearn.preprocessing import MinMaxScaler\n",
        "\n",
        "scaler = MinMaxScaler()\n",
        "\n",
        "X_scaled = scaler.fit_transform(X)\n",
        "\n"
      ],
      "metadata": {
        "id": "DQy2BSPRWCPa"
      },
      "execution_count": null,
      "outputs": []
    },
    {
      "cell_type": "code",
      "source": [
        "from sklearn.preprocessing import StandardScaler\n",
        "\n",
        "scaler = StandardScaler()\n",
        "\n",
        "X_scaled = scaler.fit_transform(X)\n",
        "\n"
      ],
      "metadata": {
        "id": "22vQsAOUWNlc"
      },
      "execution_count": null,
      "outputs": []
    }
  ]
}